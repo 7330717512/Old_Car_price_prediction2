{
  "nbformat": 4,
  "nbformat_minor": 0,
  "metadata": {
    "colab": {
      "name": "Old_Car_price_prediction.ipynb",
      "provenance": [],
      "collapsed_sections": [],
      "mount_file_id": "10WPE-1mMY5zOcycwFuV9BXRVpVA-8SK4",
      "authorship_tag": "ABX9TyOfQVzO61ZkcZYpCJGV4qEO",
      "include_colab_link": true
    },
    "kernelspec": {
      "name": "python3",
      "display_name": "Python 3"
    },
    "language_info": {
      "name": "python"
    }
  },
  "cells": [
    {
      "cell_type": "markdown",
      "metadata": {
        "id": "view-in-github",
        "colab_type": "text"
      },
      "source": [
        "<a href=\"https://colab.research.google.com/github/7330717512/Old_Car_price_prediction2/blob/main/Old_Car_price_prediction.ipynb\" target=\"_parent\"><img src=\"https://colab.research.google.com/assets/colab-badge.svg\" alt=\"Open In Colab\"/></a>"
      ]
    },
    {
      "cell_type": "code",
      "metadata": {
        "id": "n1yGjXJSD45_"
      },
      "source": [
        "import numpy as np\n",
        "import pandas as pd"
      ],
      "execution_count": null,
      "outputs": []
    },
    {
      "cell_type": "code",
      "metadata": {
        "id": "Ft35VtuYGmGo"
      },
      "source": [
        "df = pd.read_csv('/content/drive/MyDrive/car-data.csv')"
      ],
      "execution_count": null,
      "outputs": []
    },
    {
      "cell_type": "code",
      "metadata": {
        "colab": {
          "base_uri": "https://localhost:8080/",
          "height": 359
        },
        "id": "5tRC8FBhGmCi",
        "outputId": "0cfcd036-c9e1-439a-cd67-b5c88f0462fa"
      },
      "source": [
        "df.sample(10)"
      ],
      "execution_count": null,
      "outputs": [
        {
          "output_type": "execute_result",
          "data": {
            "text/html": [
              "<div>\n",
              "<style scoped>\n",
              "    .dataframe tbody tr th:only-of-type {\n",
              "        vertical-align: middle;\n",
              "    }\n",
              "\n",
              "    .dataframe tbody tr th {\n",
              "        vertical-align: top;\n",
              "    }\n",
              "\n",
              "    .dataframe thead th {\n",
              "        text-align: right;\n",
              "    }\n",
              "</style>\n",
              "<table border=\"1\" class=\"dataframe\">\n",
              "  <thead>\n",
              "    <tr style=\"text-align: right;\">\n",
              "      <th></th>\n",
              "      <th>year</th>\n",
              "      <th>price</th>\n",
              "      <th>transmission</th>\n",
              "      <th>mileage</th>\n",
              "      <th>fuelType</th>\n",
              "      <th>tax</th>\n",
              "      <th>mpg</th>\n",
              "      <th>engineSize</th>\n",
              "    </tr>\n",
              "  </thead>\n",
              "  <tbody>\n",
              "    <tr>\n",
              "      <th>5700</th>\n",
              "      <td>2016</td>\n",
              "      <td>11798</td>\n",
              "      <td>Manual</td>\n",
              "      <td>28941</td>\n",
              "      <td>Diesel</td>\n",
              "      <td>20</td>\n",
              "      <td>68.9</td>\n",
              "      <td>2.0</td>\n",
              "    </tr>\n",
              "    <tr>\n",
              "      <th>10755</th>\n",
              "      <td>2019</td>\n",
              "      <td>28495</td>\n",
              "      <td>Manual</td>\n",
              "      <td>1950</td>\n",
              "      <td>Diesel</td>\n",
              "      <td>150</td>\n",
              "      <td>47.9</td>\n",
              "      <td>2.0</td>\n",
              "    </tr>\n",
              "    <tr>\n",
              "      <th>8053</th>\n",
              "      <td>2015</td>\n",
              "      <td>10995</td>\n",
              "      <td>Semi-Auto</td>\n",
              "      <td>44657</td>\n",
              "      <td>Petrol</td>\n",
              "      <td>20</td>\n",
              "      <td>61.4</td>\n",
              "      <td>1.4</td>\n",
              "    </tr>\n",
              "    <tr>\n",
              "      <th>5683</th>\n",
              "      <td>2016</td>\n",
              "      <td>14998</td>\n",
              "      <td>Semi-Auto</td>\n",
              "      <td>33784</td>\n",
              "      <td>Diesel</td>\n",
              "      <td>30</td>\n",
              "      <td>62.8</td>\n",
              "      <td>2.0</td>\n",
              "    </tr>\n",
              "    <tr>\n",
              "      <th>9813</th>\n",
              "      <td>2019</td>\n",
              "      <td>13490</td>\n",
              "      <td>Manual</td>\n",
              "      <td>3000</td>\n",
              "      <td>Petrol</td>\n",
              "      <td>150</td>\n",
              "      <td>52.3</td>\n",
              "      <td>1.0</td>\n",
              "    </tr>\n",
              "    <tr>\n",
              "      <th>9554</th>\n",
              "      <td>2017</td>\n",
              "      <td>10500</td>\n",
              "      <td>Manual</td>\n",
              "      <td>27643</td>\n",
              "      <td>Petrol</td>\n",
              "      <td>150</td>\n",
              "      <td>60.1</td>\n",
              "      <td>1.2</td>\n",
              "    </tr>\n",
              "    <tr>\n",
              "      <th>167</th>\n",
              "      <td>2019</td>\n",
              "      <td>19995</td>\n",
              "      <td>Manual</td>\n",
              "      <td>4407</td>\n",
              "      <td>Diesel</td>\n",
              "      <td>145</td>\n",
              "      <td>50.4</td>\n",
              "      <td>1.6</td>\n",
              "    </tr>\n",
              "    <tr>\n",
              "      <th>1636</th>\n",
              "      <td>2019</td>\n",
              "      <td>13995</td>\n",
              "      <td>Manual</td>\n",
              "      <td>13144</td>\n",
              "      <td>Diesel</td>\n",
              "      <td>145</td>\n",
              "      <td>57.7</td>\n",
              "      <td>1.6</td>\n",
              "    </tr>\n",
              "    <tr>\n",
              "      <th>7261</th>\n",
              "      <td>2017</td>\n",
              "      <td>10191</td>\n",
              "      <td>Manual</td>\n",
              "      <td>35443</td>\n",
              "      <td>Petrol</td>\n",
              "      <td>145</td>\n",
              "      <td>60.1</td>\n",
              "      <td>1.2</td>\n",
              "    </tr>\n",
              "    <tr>\n",
              "      <th>12562</th>\n",
              "      <td>2017</td>\n",
              "      <td>7490</td>\n",
              "      <td>Manual</td>\n",
              "      <td>22331</td>\n",
              "      <td>Petrol</td>\n",
              "      <td>150</td>\n",
              "      <td>64.2</td>\n",
              "      <td>1.0</td>\n",
              "    </tr>\n",
              "  </tbody>\n",
              "</table>\n",
              "</div>"
            ],
            "text/plain": [
              "       year  price transmission  mileage fuelType  tax   mpg  engineSize\n",
              "5700   2016  11798       Manual    28941   Diesel   20  68.9         2.0\n",
              "10755  2019  28495       Manual     1950   Diesel  150  47.9         2.0\n",
              "8053   2015  10995    Semi-Auto    44657   Petrol   20  61.4         1.4\n",
              "5683   2016  14998    Semi-Auto    33784   Diesel   30  62.8         2.0\n",
              "9813   2019  13490       Manual     3000   Petrol  150  52.3         1.0\n",
              "9554   2017  10500       Manual    27643   Petrol  150  60.1         1.2\n",
              "167    2019  19995       Manual     4407   Diesel  145  50.4         1.6\n",
              "1636   2019  13995       Manual    13144   Diesel  145  57.7         1.6\n",
              "7261   2017  10191       Manual    35443   Petrol  145  60.1         1.2\n",
              "12562  2017   7490       Manual    22331   Petrol  150  64.2         1.0"
            ]
          },
          "metadata": {
            "tags": []
          },
          "execution_count": 3
        }
      ]
    },
    {
      "cell_type": "code",
      "metadata": {
        "colab": {
          "base_uri": "https://localhost:8080/"
        },
        "id": "OFrxbxcra1rC",
        "outputId": "8b33c8cc-b63b-4565-f5d7-c12657f2a5bf"
      },
      "source": [
        "df.shape"
      ],
      "execution_count": null,
      "outputs": [
        {
          "output_type": "execute_result",
          "data": {
            "text/plain": [
              "(15157, 8)"
            ]
          },
          "metadata": {
            "tags": []
          },
          "execution_count": 4
        }
      ]
    },
    {
      "cell_type": "code",
      "metadata": {
        "colab": {
          "base_uri": "https://localhost:8080/"
        },
        "id": "JJBeJIvHcrei",
        "outputId": "4d850766-63e4-45e9-b07b-97f6111c535a"
      },
      "source": [
        "df.isnull().sum()"
      ],
      "execution_count": null,
      "outputs": [
        {
          "output_type": "execute_result",
          "data": {
            "text/plain": [
              "year            0\n",
              "price           0\n",
              "transmission    0\n",
              "mileage         0\n",
              "fuelType        0\n",
              "tax             0\n",
              "mpg             0\n",
              "engineSize      0\n",
              "dtype: int64"
            ]
          },
          "metadata": {
            "tags": []
          },
          "execution_count": 5
        }
      ]
    },
    {
      "cell_type": "code",
      "metadata": {
        "id": "uq_v-cSmdgKS"
      },
      "source": [
        "df[\"car_age\"] = 2021 - df[\"year\"]"
      ],
      "execution_count": null,
      "outputs": []
    },
    {
      "cell_type": "code",
      "metadata": {
        "colab": {
          "base_uri": "https://localhost:8080/",
          "height": 204
        },
        "id": "gpPuykzpdwGH",
        "outputId": "d800e35d-c5e2-4a00-f28c-ae7948f5f142"
      },
      "source": [
        "df.head()"
      ],
      "execution_count": null,
      "outputs": [
        {
          "output_type": "execute_result",
          "data": {
            "text/html": [
              "<div>\n",
              "<style scoped>\n",
              "    .dataframe tbody tr th:only-of-type {\n",
              "        vertical-align: middle;\n",
              "    }\n",
              "\n",
              "    .dataframe tbody tr th {\n",
              "        vertical-align: top;\n",
              "    }\n",
              "\n",
              "    .dataframe thead th {\n",
              "        text-align: right;\n",
              "    }\n",
              "</style>\n",
              "<table border=\"1\" class=\"dataframe\">\n",
              "  <thead>\n",
              "    <tr style=\"text-align: right;\">\n",
              "      <th></th>\n",
              "      <th>year</th>\n",
              "      <th>price</th>\n",
              "      <th>transmission</th>\n",
              "      <th>mileage</th>\n",
              "      <th>fuelType</th>\n",
              "      <th>tax</th>\n",
              "      <th>mpg</th>\n",
              "      <th>engineSize</th>\n",
              "      <th>car_age</th>\n",
              "    </tr>\n",
              "  </thead>\n",
              "  <tbody>\n",
              "    <tr>\n",
              "      <th>0</th>\n",
              "      <td>2019</td>\n",
              "      <td>25000</td>\n",
              "      <td>Automatic</td>\n",
              "      <td>13904</td>\n",
              "      <td>Diesel</td>\n",
              "      <td>145</td>\n",
              "      <td>49.6</td>\n",
              "      <td>2.0</td>\n",
              "      <td>2</td>\n",
              "    </tr>\n",
              "    <tr>\n",
              "      <th>1</th>\n",
              "      <td>2019</td>\n",
              "      <td>26883</td>\n",
              "      <td>Automatic</td>\n",
              "      <td>4562</td>\n",
              "      <td>Diesel</td>\n",
              "      <td>145</td>\n",
              "      <td>49.6</td>\n",
              "      <td>2.0</td>\n",
              "      <td>2</td>\n",
              "    </tr>\n",
              "    <tr>\n",
              "      <th>2</th>\n",
              "      <td>2019</td>\n",
              "      <td>20000</td>\n",
              "      <td>Manual</td>\n",
              "      <td>7414</td>\n",
              "      <td>Diesel</td>\n",
              "      <td>145</td>\n",
              "      <td>50.4</td>\n",
              "      <td>2.0</td>\n",
              "      <td>2</td>\n",
              "    </tr>\n",
              "    <tr>\n",
              "      <th>3</th>\n",
              "      <td>2019</td>\n",
              "      <td>33492</td>\n",
              "      <td>Automatic</td>\n",
              "      <td>4825</td>\n",
              "      <td>Petrol</td>\n",
              "      <td>145</td>\n",
              "      <td>32.5</td>\n",
              "      <td>2.0</td>\n",
              "      <td>2</td>\n",
              "    </tr>\n",
              "    <tr>\n",
              "      <th>4</th>\n",
              "      <td>2019</td>\n",
              "      <td>22900</td>\n",
              "      <td>Semi-Auto</td>\n",
              "      <td>6500</td>\n",
              "      <td>Petrol</td>\n",
              "      <td>150</td>\n",
              "      <td>39.8</td>\n",
              "      <td>1.5</td>\n",
              "      <td>2</td>\n",
              "    </tr>\n",
              "  </tbody>\n",
              "</table>\n",
              "</div>"
            ],
            "text/plain": [
              "   year  price transmission  mileage fuelType  tax   mpg  engineSize  car_age\n",
              "0  2019  25000    Automatic    13904   Diesel  145  49.6         2.0        2\n",
              "1  2019  26883    Automatic     4562   Diesel  145  49.6         2.0        2\n",
              "2  2019  20000       Manual     7414   Diesel  145  50.4         2.0        2\n",
              "3  2019  33492    Automatic     4825   Petrol  145  32.5         2.0        2\n",
              "4  2019  22900    Semi-Auto     6500   Petrol  150  39.8         1.5        2"
            ]
          },
          "metadata": {
            "tags": []
          },
          "execution_count": 7
        }
      ]
    },
    {
      "cell_type": "code",
      "metadata": {
        "colab": {
          "base_uri": "https://localhost:8080/"
        },
        "id": "laQtNY89GmAp",
        "outputId": "97583e6b-60e3-43ed-b54e-3fdebe820a54"
      },
      "source": [
        "df.year.value_counts()"
      ],
      "execution_count": null,
      "outputs": [
        {
          "output_type": "execute_result",
          "data": {
            "text/plain": [
              "2019    4669\n",
              "2017    2947\n",
              "2016    2647\n",
              "2018    1509\n",
              "2015    1153\n",
              "2020    1046\n",
              "2014     580\n",
              "2013     315\n",
              "2012      80\n",
              "2011      57\n",
              "2010      41\n",
              "2009      31\n",
              "2008      27\n",
              "2007      20\n",
              "2006      16\n",
              "2005       8\n",
              "2001       4\n",
              "2004       3\n",
              "2003       2\n",
              "2002       1\n",
              "2000       1\n",
              "Name: year, dtype: int64"
            ]
          },
          "metadata": {
            "tags": []
          },
          "execution_count": 8
        }
      ]
    },
    {
      "cell_type": "code",
      "metadata": {
        "id": "f7hRgaFxGl-k"
      },
      "source": [
        "import matplotlib.pyplot as plt\n",
        "import seaborn as sns"
      ],
      "execution_count": null,
      "outputs": []
    },
    {
      "cell_type": "code",
      "metadata": {
        "id": "-bquuAz3Gl7_"
      },
      "source": [
        "year_counts = pd.DataFrame(data = df.year.value_counts())"
      ],
      "execution_count": null,
      "outputs": []
    },
    {
      "cell_type": "code",
      "metadata": {
        "id": "qOQSOWU5Gl5w"
      },
      "source": [
        "year_counts.reset_index(inplace=True)\n"
      ],
      "execution_count": null,
      "outputs": []
    },
    {
      "cell_type": "code",
      "metadata": {
        "colab": {
          "base_uri": "https://localhost:8080/",
          "height": 700
        },
        "id": "g6fSI39GGl3I",
        "outputId": "c4cf7093-8883-4694-c51b-ebe05085cb89"
      },
      "source": [
        "year_counts.rename(columns={'index':'year','year':'counts'},inplace=True)\n",
        "year_counts"
      ],
      "execution_count": null,
      "outputs": [
        {
          "output_type": "execute_result",
          "data": {
            "text/html": [
              "<div>\n",
              "<style scoped>\n",
              "    .dataframe tbody tr th:only-of-type {\n",
              "        vertical-align: middle;\n",
              "    }\n",
              "\n",
              "    .dataframe tbody tr th {\n",
              "        vertical-align: top;\n",
              "    }\n",
              "\n",
              "    .dataframe thead th {\n",
              "        text-align: right;\n",
              "    }\n",
              "</style>\n",
              "<table border=\"1\" class=\"dataframe\">\n",
              "  <thead>\n",
              "    <tr style=\"text-align: right;\">\n",
              "      <th></th>\n",
              "      <th>year</th>\n",
              "      <th>counts</th>\n",
              "    </tr>\n",
              "  </thead>\n",
              "  <tbody>\n",
              "    <tr>\n",
              "      <th>0</th>\n",
              "      <td>2019</td>\n",
              "      <td>4669</td>\n",
              "    </tr>\n",
              "    <tr>\n",
              "      <th>1</th>\n",
              "      <td>2017</td>\n",
              "      <td>2947</td>\n",
              "    </tr>\n",
              "    <tr>\n",
              "      <th>2</th>\n",
              "      <td>2016</td>\n",
              "      <td>2647</td>\n",
              "    </tr>\n",
              "    <tr>\n",
              "      <th>3</th>\n",
              "      <td>2018</td>\n",
              "      <td>1509</td>\n",
              "    </tr>\n",
              "    <tr>\n",
              "      <th>4</th>\n",
              "      <td>2015</td>\n",
              "      <td>1153</td>\n",
              "    </tr>\n",
              "    <tr>\n",
              "      <th>5</th>\n",
              "      <td>2020</td>\n",
              "      <td>1046</td>\n",
              "    </tr>\n",
              "    <tr>\n",
              "      <th>6</th>\n",
              "      <td>2014</td>\n",
              "      <td>580</td>\n",
              "    </tr>\n",
              "    <tr>\n",
              "      <th>7</th>\n",
              "      <td>2013</td>\n",
              "      <td>315</td>\n",
              "    </tr>\n",
              "    <tr>\n",
              "      <th>8</th>\n",
              "      <td>2012</td>\n",
              "      <td>80</td>\n",
              "    </tr>\n",
              "    <tr>\n",
              "      <th>9</th>\n",
              "      <td>2011</td>\n",
              "      <td>57</td>\n",
              "    </tr>\n",
              "    <tr>\n",
              "      <th>10</th>\n",
              "      <td>2010</td>\n",
              "      <td>41</td>\n",
              "    </tr>\n",
              "    <tr>\n",
              "      <th>11</th>\n",
              "      <td>2009</td>\n",
              "      <td>31</td>\n",
              "    </tr>\n",
              "    <tr>\n",
              "      <th>12</th>\n",
              "      <td>2008</td>\n",
              "      <td>27</td>\n",
              "    </tr>\n",
              "    <tr>\n",
              "      <th>13</th>\n",
              "      <td>2007</td>\n",
              "      <td>20</td>\n",
              "    </tr>\n",
              "    <tr>\n",
              "      <th>14</th>\n",
              "      <td>2006</td>\n",
              "      <td>16</td>\n",
              "    </tr>\n",
              "    <tr>\n",
              "      <th>15</th>\n",
              "      <td>2005</td>\n",
              "      <td>8</td>\n",
              "    </tr>\n",
              "    <tr>\n",
              "      <th>16</th>\n",
              "      <td>2001</td>\n",
              "      <td>4</td>\n",
              "    </tr>\n",
              "    <tr>\n",
              "      <th>17</th>\n",
              "      <td>2004</td>\n",
              "      <td>3</td>\n",
              "    </tr>\n",
              "    <tr>\n",
              "      <th>18</th>\n",
              "      <td>2003</td>\n",
              "      <td>2</td>\n",
              "    </tr>\n",
              "    <tr>\n",
              "      <th>19</th>\n",
              "      <td>2002</td>\n",
              "      <td>1</td>\n",
              "    </tr>\n",
              "    <tr>\n",
              "      <th>20</th>\n",
              "      <td>2000</td>\n",
              "      <td>1</td>\n",
              "    </tr>\n",
              "  </tbody>\n",
              "</table>\n",
              "</div>"
            ],
            "text/plain": [
              "    year  counts\n",
              "0   2019    4669\n",
              "1   2017    2947\n",
              "2   2016    2647\n",
              "3   2018    1509\n",
              "4   2015    1153\n",
              "5   2020    1046\n",
              "6   2014     580\n",
              "7   2013     315\n",
              "8   2012      80\n",
              "9   2011      57\n",
              "10  2010      41\n",
              "11  2009      31\n",
              "12  2008      27\n",
              "13  2007      20\n",
              "14  2006      16\n",
              "15  2005       8\n",
              "16  2001       4\n",
              "17  2004       3\n",
              "18  2003       2\n",
              "19  2002       1\n",
              "20  2000       1"
            ]
          },
          "metadata": {
            "tags": []
          },
          "execution_count": 12
        }
      ]
    },
    {
      "cell_type": "code",
      "metadata": {
        "colab": {
          "base_uri": "https://localhost:8080/",
          "height": 514
        },
        "id": "gCUVgMcRGl0q",
        "outputId": "deb9dcae-d1e5-45a0-df88-c51f42417943"
      },
      "source": [
        "fig, ax = plt.subplots(figsize=(10,8))\n",
        "sns.barplot(x='year',y='counts',data=year_counts)"
      ],
      "execution_count": null,
      "outputs": [
        {
          "output_type": "execute_result",
          "data": {
            "text/plain": [
              "<matplotlib.axes._subplots.AxesSubplot at 0x7ff930fd2710>"
            ]
          },
          "metadata": {
            "tags": []
          },
          "execution_count": 13
        },
        {
          "output_type": "display_data",
          "data": {
            "image/png": "[encoded data removed]",
            "text/plain": [
              "<Figure size 720x576 with 1 Axes>"
            ]
          },
          "metadata": {
            "tags": [],
            "needs_background": "light"
          }
        }
      ]
    },
    {
      "cell_type": "code",
      "metadata": {
        "colab": {
          "base_uri": "https://localhost:8080/",
          "height": 361
        },
        "id": "snJ_EEwaGlzG",
        "outputId": "23280831-2465-4711-b25c-077bc4257654"
      },
      "source": [
        "sns.distplot(df[\"price\"],bins=15)"
      ],
      "execution_count": null,
      "outputs": [
        {
          "output_type": "stream",
          "text": [
            "/usr/local/lib/python3.7/dist-packages/seaborn/distributions.py:2557: FutureWarning: `distplot` is a deprecated function and will be removed in a future version. Please adapt your code to use either `displot` (a figure-level function with similar flexibility) or `histplot` (an axes-level function for histograms).\n",
            "  warnings.warn(msg, FutureWarning)\n"
          ],
          "name": "stderr"
        },
        {
          "output_type": "execute_result",
          "data": {
            "text/plain": [
              "<matplotlib.axes._subplots.AxesSubplot at 0x7ff9309e1750>"
            ]
          },
          "metadata": {
            "tags": []
          },
          "execution_count": 14
        },
        {
          "output_type": "display_data",
          "data": {
            "image/png": "[encoded data removed]",
            "text/plain": [
              "<Figure size 432x288 with 1 Axes>"
            ]
          },
          "metadata": {
            "tags": [],
            "needs_background": "light"
          }
        }
      ]
    },
    {
      "cell_type": "code",
      "metadata": {
        "colab": {
          "base_uri": "https://localhost:8080/",
          "height": 350
        },
        "id": "JU4mT-MbGlw3",
        "outputId": "624be5a9-f694-4905-a8fa-79d00a60da65"
      },
      "source": [
        "sns.boxplot(df[\"price\"])"
      ],
      "execution_count": null,
      "outputs": [
        {
          "output_type": "stream",
          "text": [
            "/usr/local/lib/python3.7/dist-packages/seaborn/_decorators.py:43: FutureWarning: Pass the following variable as a keyword arg: x. From version 0.12, the only valid positional argument will be `data`, and passing other arguments without an explicit keyword will result in an error or misinterpretation.\n",
            "  FutureWarning\n"
          ],
          "name": "stderr"
        },
        {
          "output_type": "execute_result",
          "data": {
            "text/plain": [
              "<matplotlib.axes._subplots.AxesSubplot at 0x7ff93096bbd0>"
            ]
          },
          "metadata": {
            "tags": []
          },
          "execution_count": 15
        },
        {
          "output_type": "display_data",
          "data": {
            "image/png": "[encoded data removed]",
            "text/plain": [
              "<Figure size 432x288 with 1 Axes>"
            ]
          },
          "metadata": {
            "tags": [],
            "needs_background": "light"
          }
        }
      ]
    },
    {
      "cell_type": "code",
      "metadata": {
        "colab": {
          "base_uri": "https://localhost:8080/",
          "height": 419
        },
        "id": "oPPgaUWQbZcL",
        "outputId": "b1f037a2-23ad-4a56-fedf-7e7be1d095be"
      },
      "source": [
        "df[df[\"price\"]>df[\"price\"].quantile(.99)]"
      ],
      "execution_count": null,
      "outputs": [
        {
          "output_type": "execute_result",
          "data": {
            "text/html": [
              "<div>\n",
              "<style scoped>\n",
              "    .dataframe tbody tr th:only-of-type {\n",
              "        vertical-align: middle;\n",
              "    }\n",
              "\n",
              "    .dataframe tbody tr th {\n",
              "        vertical-align: top;\n",
              "    }\n",
              "\n",
              "    .dataframe thead th {\n",
              "        text-align: right;\n",
              "    }\n",
              "</style>\n",
              "<table border=\"1\" class=\"dataframe\">\n",
              "  <thead>\n",
              "    <tr style=\"text-align: right;\">\n",
              "      <th></th>\n",
              "      <th>year</th>\n",
              "      <th>price</th>\n",
              "      <th>transmission</th>\n",
              "      <th>mileage</th>\n",
              "      <th>fuelType</th>\n",
              "      <th>tax</th>\n",
              "      <th>mpg</th>\n",
              "      <th>engineSize</th>\n",
              "      <th>car_age</th>\n",
              "    </tr>\n",
              "  </thead>\n",
              "  <tbody>\n",
              "    <tr>\n",
              "      <th>11849</th>\n",
              "      <td>2019</td>\n",
              "      <td>43995</td>\n",
              "      <td>Automatic</td>\n",
              "      <td>2927</td>\n",
              "      <td>Other</td>\n",
              "      <td>150</td>\n",
              "      <td>30.4</td>\n",
              "      <td>2.0</td>\n",
              "      <td>2</td>\n",
              "    </tr>\n",
              "    <tr>\n",
              "      <th>13391</th>\n",
              "      <td>2020</td>\n",
              "      <td>47000</td>\n",
              "      <td>Automatic</td>\n",
              "      <td>1001</td>\n",
              "      <td>Diesel</td>\n",
              "      <td>145</td>\n",
              "      <td>33.6</td>\n",
              "      <td>2.0</td>\n",
              "      <td>1</td>\n",
              "    </tr>\n",
              "    <tr>\n",
              "      <th>13397</th>\n",
              "      <td>2019</td>\n",
              "      <td>52999</td>\n",
              "      <td>Semi-Auto</td>\n",
              "      <td>3365</td>\n",
              "      <td>Diesel</td>\n",
              "      <td>145</td>\n",
              "      <td>29.4</td>\n",
              "      <td>2.0</td>\n",
              "      <td>2</td>\n",
              "    </tr>\n",
              "    <tr>\n",
              "      <th>13401</th>\n",
              "      <td>2019</td>\n",
              "      <td>46795</td>\n",
              "      <td>Semi-Auto</td>\n",
              "      <td>6280</td>\n",
              "      <td>Diesel</td>\n",
              "      <td>145</td>\n",
              "      <td>33.6</td>\n",
              "      <td>2.0</td>\n",
              "      <td>2</td>\n",
              "    </tr>\n",
              "    <tr>\n",
              "      <th>13402</th>\n",
              "      <td>2020</td>\n",
              "      <td>43495</td>\n",
              "      <td>Semi-Auto</td>\n",
              "      <td>2000</td>\n",
              "      <td>Diesel</td>\n",
              "      <td>150</td>\n",
              "      <td>33.6</td>\n",
              "      <td>2.0</td>\n",
              "      <td>1</td>\n",
              "    </tr>\n",
              "    <tr>\n",
              "      <th>...</th>\n",
              "      <td>...</td>\n",
              "      <td>...</td>\n",
              "      <td>...</td>\n",
              "      <td>...</td>\n",
              "      <td>...</td>\n",
              "      <td>...</td>\n",
              "      <td>...</td>\n",
              "      <td>...</td>\n",
              "      <td>...</td>\n",
              "    </tr>\n",
              "    <tr>\n",
              "      <th>15123</th>\n",
              "      <td>2019</td>\n",
              "      <td>57991</td>\n",
              "      <td>Automatic</td>\n",
              "      <td>10288</td>\n",
              "      <td>Diesel</td>\n",
              "      <td>260</td>\n",
              "      <td>33.2</td>\n",
              "      <td>2.0</td>\n",
              "      <td>2</td>\n",
              "    </tr>\n",
              "    <tr>\n",
              "      <th>15124</th>\n",
              "      <td>2019</td>\n",
              "      <td>57991</td>\n",
              "      <td>Automatic</td>\n",
              "      <td>6739</td>\n",
              "      <td>Diesel</td>\n",
              "      <td>260</td>\n",
              "      <td>33.2</td>\n",
              "      <td>2.0</td>\n",
              "      <td>2</td>\n",
              "    </tr>\n",
              "    <tr>\n",
              "      <th>15125</th>\n",
              "      <td>2019</td>\n",
              "      <td>57991</td>\n",
              "      <td>Automatic</td>\n",
              "      <td>7259</td>\n",
              "      <td>Diesel</td>\n",
              "      <td>260</td>\n",
              "      <td>33.2</td>\n",
              "      <td>2.0</td>\n",
              "      <td>2</td>\n",
              "    </tr>\n",
              "    <tr>\n",
              "      <th>15126</th>\n",
              "      <td>2019</td>\n",
              "      <td>57991</td>\n",
              "      <td>Automatic</td>\n",
              "      <td>7486</td>\n",
              "      <td>Diesel</td>\n",
              "      <td>260</td>\n",
              "      <td>33.2</td>\n",
              "      <td>2.0</td>\n",
              "      <td>2</td>\n",
              "    </tr>\n",
              "    <tr>\n",
              "      <th>15127</th>\n",
              "      <td>2019</td>\n",
              "      <td>57991</td>\n",
              "      <td>Automatic</td>\n",
              "      <td>10080</td>\n",
              "      <td>Diesel</td>\n",
              "      <td>260</td>\n",
              "      <td>29.1</td>\n",
              "      <td>2.0</td>\n",
              "      <td>2</td>\n",
              "    </tr>\n",
              "  </tbody>\n",
              "</table>\n",
              "<p>150 rows × 9 columns</p>\n",
              "</div>"
            ],
            "text/plain": [
              "       year  price transmission  mileage  ...  tax   mpg  engineSize  car_age\n",
              "11849  2019  43995    Automatic     2927  ...  150  30.4         2.0        2\n",
              "13391  2020  47000    Automatic     1001  ...  145  33.6         2.0        1\n",
              "13397  2019  52999    Semi-Auto     3365  ...  145  29.4         2.0        2\n",
              "13401  2019  46795    Semi-Auto     6280  ...  145  33.6         2.0        2\n",
              "13402  2020  43495    Semi-Auto     2000  ...  150  33.6         2.0        1\n",
              "...     ...    ...          ...      ...  ...  ...   ...         ...      ...\n",
              "15123  2019  57991    Automatic    10288  ...  260  33.2         2.0        2\n",
              "15124  2019  57991    Automatic     6739  ...  260  33.2         2.0        2\n",
              "15125  2019  57991    Automatic     7259  ...  260  33.2         2.0        2\n",
              "15126  2019  57991    Automatic     7486  ...  260  33.2         2.0        2\n",
              "15127  2019  57991    Automatic    10080  ...  260  29.1         2.0        2\n",
              "\n",
              "[150 rows x 9 columns]"
            ]
          },
          "metadata": {
            "tags": []
          },
          "execution_count": 16
        }
      ]
    },
    {
      "cell_type": "code",
      "metadata": {
        "colab": {
          "base_uri": "https://localhost:8080/",
          "height": 265
        },
        "id": "yKP5NBHTbZYN",
        "outputId": "42d78711-1855-4082-8843-facd5a2523a1"
      },
      "source": [
        "plt.hist(df[\"price\"])\n",
        "plt.show()"
      ],
      "execution_count": null,
      "outputs": [
        {
          "output_type": "display_data",
          "data": {
            "image/png": "[encoded data removed]",
            "text/plain": [
              "<Figure size 432x288 with 1 Axes>"
            ]
          },
          "metadata": {
            "tags": [],
            "needs_background": "light"
          }
        }
      ]
    },
    {
      "cell_type": "code",
      "metadata": {
        "colab": {
          "base_uri": "https://localhost:8080/"
        },
        "id": "qikh_DzYbZV6",
        "outputId": "adf104c5-513e-4bdf-83ee-27d5eaefa03b"
      },
      "source": [
        "df.transmission.value_counts()"
      ],
      "execution_count": null,
      "outputs": [
        {
          "output_type": "execute_result",
          "data": {
            "text/plain": [
              "Manual       9417\n",
              "Semi-Auto    3780\n",
              "Automatic    1960\n",
              "Name: transmission, dtype: int64"
            ]
          },
          "metadata": {
            "tags": []
          },
          "execution_count": 18
        }
      ]
    },
    {
      "cell_type": "code",
      "metadata": {
        "colab": {
          "base_uri": "https://localhost:8080/",
          "height": 400
        },
        "id": "OzIAMtqceWWY",
        "outputId": "e2292e16-0cc9-45a5-a6e9-b424ca9ecdbe"
      },
      "source": [
        "sns.catplot(x='transmission',kind=\"count\",data=df)"
      ],
      "execution_count": null,
      "outputs": [
        {
          "output_type": "execute_result",
          "data": {
            "text/plain": [
              "<seaborn.axisgrid.FacetGrid at 0x7ff926079990>"
            ]
          },
          "metadata": {
            "tags": []
          },
          "execution_count": 19
        },
        {
          "output_type": "display_data",
          "data": {
            "image/png": "[encoded data removed]",
            "text/plain": [
              "<Figure size 360x360 with 1 Axes>"
            ]
          },
          "metadata": {
            "tags": [],
            "needs_background": "light"
          }
        }
      ]
    },
    {
      "cell_type": "code",
      "metadata": {
        "colab": {
          "base_uri": "https://localhost:8080/",
          "height": 265
        },
        "id": "cTlOCyFhbZTU",
        "outputId": "3e19b3b8-8c93-4c01-c6e4-2cf76fb44c40"
      },
      "source": [
        "plt.hist(df[\"mileage\"])\n",
        "plt.show()"
      ],
      "execution_count": null,
      "outputs": [
        {
          "output_type": "display_data",
          "data": {
            "image/png": "[encoded data removed]",
            "text/plain": [
              "<Figure size 432x288 with 1 Axes>"
            ]
          },
          "metadata": {
            "tags": [],
            "needs_background": "light"
          }
        }
      ]
    },
    {
      "cell_type": "code",
      "metadata": {
        "colab": {
          "base_uri": "https://localhost:8080/",
          "height": 282
        },
        "id": "GISJyAnFbZQY",
        "outputId": "2001a22a-6850-47ea-8a7c-ebdefde33b19"
      },
      "source": [
        "df['mileage'].plot(kind='box')"
      ],
      "execution_count": null,
      "outputs": [
        {
          "output_type": "execute_result",
          "data": {
            "text/plain": [
              "<matplotlib.axes._subplots.AxesSubplot at 0x7ff9260f8410>"
            ]
          },
          "metadata": {
            "tags": []
          },
          "execution_count": 21
        },
        {
          "output_type": "display_data",
          "data": {
            "image/png": "[encoded data removed]",
            "text/plain": [
              "<Figure size 432x288 with 1 Axes>"
            ]
          },
          "metadata": {
            "tags": [],
            "needs_background": "light"
          }
        }
      ]
    },
    {
      "cell_type": "code",
      "metadata": {
        "colab": {
          "base_uri": "https://localhost:8080/",
          "height": 419
        },
        "id": "F8ptmONhbZNt",
        "outputId": "28044fd1-ea50-4aa4-9806-11c03a00cf3d"
      },
      "source": [
        "df[df[\"mileage\"]>df[\"mileage\"].quantile(.99)]"
      ],
      "execution_count": null,
      "outputs": [
        {
          "output_type": "execute_result",
          "data": {
            "text/html": [
              "<div>\n",
              "<style scoped>\n",
              "    .dataframe tbody tr th:only-of-type {\n",
              "        vertical-align: middle;\n",
              "    }\n",
              "\n",
              "    .dataframe tbody tr th {\n",
              "        vertical-align: top;\n",
              "    }\n",
              "\n",
              "    .dataframe thead th {\n",
              "        text-align: right;\n",
              "    }\n",
              "</style>\n",
              "<table border=\"1\" class=\"dataframe\">\n",
              "  <thead>\n",
              "    <tr style=\"text-align: right;\">\n",
              "      <th></th>\n",
              "      <th>year</th>\n",
              "      <th>price</th>\n",
              "      <th>transmission</th>\n",
              "      <th>mileage</th>\n",
              "      <th>fuelType</th>\n",
              "      <th>tax</th>\n",
              "      <th>mpg</th>\n",
              "      <th>engineSize</th>\n",
              "      <th>car_age</th>\n",
              "    </tr>\n",
              "  </thead>\n",
              "  <tbody>\n",
              "    <tr>\n",
              "      <th>761</th>\n",
              "      <td>2010</td>\n",
              "      <td>4995</td>\n",
              "      <td>Manual</td>\n",
              "      <td>99000</td>\n",
              "      <td>Diesel</td>\n",
              "      <td>125</td>\n",
              "      <td>57.6</td>\n",
              "      <td>2.0</td>\n",
              "      <td>11</td>\n",
              "    </tr>\n",
              "    <tr>\n",
              "      <th>774</th>\n",
              "      <td>2004</td>\n",
              "      <td>1287</td>\n",
              "      <td>Manual</td>\n",
              "      <td>170000</td>\n",
              "      <td>Diesel</td>\n",
              "      <td>165</td>\n",
              "      <td>52.3</td>\n",
              "      <td>2.0</td>\n",
              "      <td>17</td>\n",
              "    </tr>\n",
              "    <tr>\n",
              "      <th>787</th>\n",
              "      <td>2013</td>\n",
              "      <td>6999</td>\n",
              "      <td>Manual</td>\n",
              "      <td>100000</td>\n",
              "      <td>Diesel</td>\n",
              "      <td>0</td>\n",
              "      <td>74.3</td>\n",
              "      <td>1.6</td>\n",
              "      <td>8</td>\n",
              "    </tr>\n",
              "    <tr>\n",
              "      <th>789</th>\n",
              "      <td>2010</td>\n",
              "      <td>7999</td>\n",
              "      <td>Manual</td>\n",
              "      <td>101000</td>\n",
              "      <td>Diesel</td>\n",
              "      <td>125</td>\n",
              "      <td>57.6</td>\n",
              "      <td>2.0</td>\n",
              "      <td>11</td>\n",
              "    </tr>\n",
              "    <tr>\n",
              "      <th>4394</th>\n",
              "      <td>2009</td>\n",
              "      <td>2999</td>\n",
              "      <td>Manual</td>\n",
              "      <td>101702</td>\n",
              "      <td>Diesel</td>\n",
              "      <td>20</td>\n",
              "      <td>68.9</td>\n",
              "      <td>1.6</td>\n",
              "      <td>12</td>\n",
              "    </tr>\n",
              "    <tr>\n",
              "      <th>...</th>\n",
              "      <td>...</td>\n",
              "      <td>...</td>\n",
              "      <td>...</td>\n",
              "      <td>...</td>\n",
              "      <td>...</td>\n",
              "      <td>...</td>\n",
              "      <td>...</td>\n",
              "      <td>...</td>\n",
              "      <td>...</td>\n",
              "    </tr>\n",
              "    <tr>\n",
              "      <th>15014</th>\n",
              "      <td>2008</td>\n",
              "      <td>2295</td>\n",
              "      <td>Manual</td>\n",
              "      <td>111000</td>\n",
              "      <td>Diesel</td>\n",
              "      <td>155</td>\n",
              "      <td>48.7</td>\n",
              "      <td>2.0</td>\n",
              "      <td>13</td>\n",
              "    </tr>\n",
              "    <tr>\n",
              "      <th>15015</th>\n",
              "      <td>2012</td>\n",
              "      <td>3995</td>\n",
              "      <td>Manual</td>\n",
              "      <td>110750</td>\n",
              "      <td>Diesel</td>\n",
              "      <td>20</td>\n",
              "      <td>67.3</td>\n",
              "      <td>1.6</td>\n",
              "      <td>9</td>\n",
              "    </tr>\n",
              "    <tr>\n",
              "      <th>15083</th>\n",
              "      <td>2016</td>\n",
              "      <td>8888</td>\n",
              "      <td>Automatic</td>\n",
              "      <td>108808</td>\n",
              "      <td>Diesel</td>\n",
              "      <td>125</td>\n",
              "      <td>58.9</td>\n",
              "      <td>2.0</td>\n",
              "      <td>5</td>\n",
              "    </tr>\n",
              "    <tr>\n",
              "      <th>15110</th>\n",
              "      <td>2012</td>\n",
              "      <td>6695</td>\n",
              "      <td>Manual</td>\n",
              "      <td>98000</td>\n",
              "      <td>Diesel</td>\n",
              "      <td>30</td>\n",
              "      <td>60.1</td>\n",
              "      <td>2.0</td>\n",
              "      <td>9</td>\n",
              "    </tr>\n",
              "    <tr>\n",
              "      <th>15148</th>\n",
              "      <td>2008</td>\n",
              "      <td>3695</td>\n",
              "      <td>Automatic</td>\n",
              "      <td>127000</td>\n",
              "      <td>Petrol</td>\n",
              "      <td>280</td>\n",
              "      <td>34.5</td>\n",
              "      <td>2.0</td>\n",
              "      <td>13</td>\n",
              "    </tr>\n",
              "  </tbody>\n",
              "</table>\n",
              "<p>150 rows × 9 columns</p>\n",
              "</div>"
            ],
            "text/plain": [
              "       year  price transmission  mileage  ...  tax   mpg  engineSize  car_age\n",
              "761    2010   4995       Manual    99000  ...  125  57.6         2.0       11\n",
              "774    2004   1287       Manual   170000  ...  165  52.3         2.0       17\n",
              "787    2013   6999       Manual   100000  ...    0  74.3         1.6        8\n",
              "789    2010   7999       Manual   101000  ...  125  57.6         2.0       11\n",
              "4394   2009   2999       Manual   101702  ...   20  68.9         1.6       12\n",
              "...     ...    ...          ...      ...  ...  ...   ...         ...      ...\n",
              "15014  2008   2295       Manual   111000  ...  155  48.7         2.0       13\n",
              "15015  2012   3995       Manual   110750  ...   20  67.3         1.6        9\n",
              "15083  2016   8888    Automatic   108808  ...  125  58.9         2.0        5\n",
              "15110  2012   6695       Manual    98000  ...   30  60.1         2.0        9\n",
              "15148  2008   3695    Automatic   127000  ...  280  34.5         2.0       13\n",
              "\n",
              "[150 rows x 9 columns]"
            ]
          },
          "metadata": {
            "tags": []
          },
          "execution_count": 22
        }
      ]
    },
    {
      "cell_type": "code",
      "metadata": {
        "colab": {
          "base_uri": "https://localhost:8080/"
        },
        "id": "555LHcAKhSmk",
        "outputId": "e6566de7-4e75-4960-f4d8-5bd280c88148"
      },
      "source": [
        "df.fuelType.value_counts()"
      ],
      "execution_count": null,
      "outputs": [
        {
          "output_type": "execute_result",
          "data": {
            "text/plain": [
              "Petrol    8553\n",
              "Diesel    6372\n",
              "Hybrid     145\n",
              "Other       87\n",
              "Name: fuelType, dtype: int64"
            ]
          },
          "metadata": {
            "tags": []
          },
          "execution_count": 23
        }
      ]
    },
    {
      "cell_type": "code",
      "metadata": {
        "colab": {
          "base_uri": "https://localhost:8080/",
          "height": 296
        },
        "id": "4iWDsyFfbZL5",
        "outputId": "adc24df3-e692-4b8a-a12b-1f5e62be005f"
      },
      "source": [
        "sns.countplot(y='fuelType',data=df,color='c')"
      ],
      "execution_count": null,
      "outputs": [
        {
          "output_type": "execute_result",
          "data": {
            "text/plain": [
              "<matplotlib.axes._subplots.AxesSubplot at 0x7ff925f64a50>"
            ]
          },
          "metadata": {
            "tags": []
          },
          "execution_count": 24
        },
        {
          "output_type": "display_data",
          "data": {
            "image/png": "[encoded data removed]",
            "text/plain": [
              "<Figure size 432x288 with 1 Axes>"
            ]
          },
          "metadata": {
            "tags": [],
            "needs_background": "light"
          }
        }
      ]
    },
    {
      "cell_type": "code",
      "metadata": {
        "colab": {
          "base_uri": "https://localhost:8080/",
          "height": 350
        },
        "id": "pdp5aH1bmJ8o",
        "outputId": "78139eae-60a0-4f1c-8069-9071239e0d9f"
      },
      "source": [
        "sns.distplot(df['tax'])"
      ],
      "execution_count": null,
      "outputs": [
        {
          "output_type": "stream",
          "text": [
            "/usr/local/lib/python3.7/dist-packages/seaborn/distributions.py:2557: FutureWarning: `distplot` is a deprecated function and will be removed in a future version. Please adapt your code to use either `displot` (a figure-level function with similar flexibility) or `histplot` (an axes-level function for histograms).\n",
            "  warnings.warn(msg, FutureWarning)\n"
          ],
          "name": "stderr"
        },
        {
          "output_type": "execute_result",
          "data": {
            "text/plain": [
              "<matplotlib.axes._subplots.AxesSubplot at 0x7ff925ee7650>"
            ]
          },
          "metadata": {
            "tags": []
          },
          "execution_count": 25
        },
        {
          "output_type": "display_data",
          "data": {
            "image/png": "[encoded data removed]",
            "text/plain": [
              "<Figure size 432x288 with 1 Axes>"
            ]
          },
          "metadata": {
            "tags": [],
            "needs_background": "light"
          }
        }
      ]
    },
    {
      "cell_type": "code",
      "metadata": {
        "colab": {
          "base_uri": "https://localhost:8080/",
          "height": 266
        },
        "id": "-FPjltXamU56",
        "outputId": "a7ae992f-e871-419c-b0b5-b6f8bfb70e61"
      },
      "source": [
        "plt.boxplot(df['tax'])\n",
        "plt.show()"
      ],
      "execution_count": null,
      "outputs": [
        {
          "output_type": "display_data",
          "data": {
            "image/png": "[encoded data removed]",
            "text/plain": [
              "<Figure size 432x288 with 1 Axes>"
            ]
          },
          "metadata": {
            "tags": [],
            "needs_background": "light"
          }
        }
      ]
    },
    {
      "cell_type": "code",
      "metadata": {
        "colab": {
          "base_uri": "https://localhost:8080/",
          "height": 350
        },
        "id": "4tkUWsqYmoMk",
        "outputId": "4d055d5c-7231-4e4d-f1a3-0ee8b1d6f732"
      },
      "source": [
        "sns.boxplot(df['tax'])"
      ],
      "execution_count": null,
      "outputs": [
        {
          "output_type": "stream",
          "text": [
            "/usr/local/lib/python3.7/dist-packages/seaborn/_decorators.py:43: FutureWarning: Pass the following variable as a keyword arg: x. From version 0.12, the only valid positional argument will be `data`, and passing other arguments without an explicit keyword will result in an error or misinterpretation.\n",
            "  FutureWarning\n"
          ],
          "name": "stderr"
        },
        {
          "output_type": "execute_result",
          "data": {
            "text/plain": [
              "<matplotlib.axes._subplots.AxesSubplot at 0x7ff925d08710>"
            ]
          },
          "metadata": {
            "tags": []
          },
          "execution_count": 27
        },
        {
          "output_type": "display_data",
          "data": {
            "image/png": "[encoded data removed]",
            "text/plain": [
              "<Figure size 432x288 with 1 Axes>"
            ]
          },
          "metadata": {
            "tags": [],
            "needs_background": "light"
          }
        }
      ]
    },
    {
      "cell_type": "code",
      "metadata": {
        "colab": {
          "base_uri": "https://localhost:8080/",
          "height": 265
        },
        "id": "noHQiOMkhYoB",
        "outputId": "655a6270-ad5c-4a6a-d437-22c7541acae8"
      },
      "source": [
        "plt.boxplot(df['mpg'])\n",
        "plt.show()"
      ],
      "execution_count": null,
      "outputs": [
        {
          "output_type": "display_data",
          "data": {
            "image/png": "[encoded data removed]",
            "text/plain": [
              "<Figure size 432x288 with 1 Axes>"
            ]
          },
          "metadata": {
            "tags": [],
            "needs_background": "light"
          }
        }
      ]
    },
    {
      "cell_type": "code",
      "metadata": {
        "colab": {
          "base_uri": "https://localhost:8080/",
          "height": 265
        },
        "id": "s2Mfrb9YhYkI",
        "outputId": "81709389-252a-41d2-a8a3-169245c15916"
      },
      "source": [
        "plt.hist(df[\"mpg\"],bins=10)\n",
        "plt.show()"
      ],
      "execution_count": null,
      "outputs": [
        {
          "output_type": "display_data",
          "data": {
            "image/png": "[encoded data removed]",
            "text/plain": [
              "<Figure size 432x288 with 1 Axes>"
            ]
          },
          "metadata": {
            "tags": [],
            "needs_background": "light"
          }
        }
      ]
    },
    {
      "cell_type": "code",
      "metadata": {
        "colab": {
          "base_uri": "https://localhost:8080/",
          "height": 350
        },
        "id": "4MgTCIzehYh6",
        "outputId": "fde91f62-9edd-4574-c065-db3129bec484"
      },
      "source": [
        "sns.boxplot(df['engineSize'])"
      ],
      "execution_count": null,
      "outputs": [
        {
          "output_type": "stream",
          "text": [
            "/usr/local/lib/python3.7/dist-packages/seaborn/_decorators.py:43: FutureWarning: Pass the following variable as a keyword arg: x. From version 0.12, the only valid positional argument will be `data`, and passing other arguments without an explicit keyword will result in an error or misinterpretation.\n",
            "  FutureWarning\n"
          ],
          "name": "stderr"
        },
        {
          "output_type": "execute_result",
          "data": {
            "text/plain": [
              "<matplotlib.axes._subplots.AxesSubplot at 0x7ff925b94ed0>"
            ]
          },
          "metadata": {
            "tags": []
          },
          "execution_count": 30
        },
        {
          "output_type": "display_data",
          "data": {
            "image/png": "[encoded data removed]",
            "text/plain": [
              "<Figure size 432x288 with 1 Axes>"
            ]
          },
          "metadata": {
            "tags": [],
            "needs_background": "light"
          }
        }
      ]
    },
    {
      "cell_type": "code",
      "metadata": {
        "colab": {
          "base_uri": "https://localhost:8080/",
          "height": 265
        },
        "id": "MqB3lx6LhYfd",
        "outputId": "d834d86e-28bd-4fed-b30d-a0137a0525e7"
      },
      "source": [
        "plt.hist(df['car_age'],bins=20)\n",
        "plt.show()"
      ],
      "execution_count": null,
      "outputs": [
        {
          "output_type": "display_data",
          "data": {
            "image/png": "[encoded data removed]",
            "text/plain": [
              "<Figure size 432x288 with 1 Axes>"
            ]
          },
          "metadata": {
            "tags": [],
            "needs_background": "light"
          }
        }
      ]
    },
    {
      "cell_type": "code",
      "metadata": {
        "colab": {
          "base_uri": "https://localhost:8080/",
          "height": 350
        },
        "id": "tw2JN7fZhYdC",
        "outputId": "799ff08f-2660-49cd-d5f5-cdc2b69b707a"
      },
      "source": [
        "sns.boxplot(df['car_age'])"
      ],
      "execution_count": null,
      "outputs": [
        {
          "output_type": "stream",
          "text": [
            "/usr/local/lib/python3.7/dist-packages/seaborn/_decorators.py:43: FutureWarning: Pass the following variable as a keyword arg: x. From version 0.12, the only valid positional argument will be `data`, and passing other arguments without an explicit keyword will result in an error or misinterpretation.\n",
            "  FutureWarning\n"
          ],
          "name": "stderr"
        },
        {
          "output_type": "execute_result",
          "data": {
            "text/plain": [
              "<matplotlib.axes._subplots.AxesSubplot at 0x7ff925a98210>"
            ]
          },
          "metadata": {
            "tags": []
          },
          "execution_count": 32
        },
        {
          "output_type": "display_data",
          "data": {
            "image/png": "[encoded data removed]",
            "text/plain": [
              "<Figure size 432x288 with 1 Axes>"
            ]
          },
          "metadata": {
            "tags": [],
            "needs_background": "light"
          }
        }
      ]
    },
    {
      "cell_type": "code",
      "metadata": {
        "colab": {
          "base_uri": "https://localhost:8080/",
          "height": 265
        },
        "id": "zPzFGK4khYap",
        "outputId": "dfa919fe-8c03-4271-a8d6-a345710507fd"
      },
      "source": [
        "plt.boxplot(df['car_age'])\n",
        "plt.show()"
      ],
      "execution_count": null,
      "outputs": [
        {
          "output_type": "display_data",
          "data": {
            "image/png": "[encoded data removed]",
            "text/plain": [
              "<Figure size 432x288 with 1 Axes>"
            ]
          },
          "metadata": {
            "tags": [],
            "needs_background": "light"
          }
        }
      ]
    },
    {
      "cell_type": "code",
      "metadata": {
        "colab": {
          "base_uri": "https://localhost:8080/",
          "height": 204
        },
        "id": "UpzW2jTNhYYb",
        "outputId": "d31c9c47-a916-4a90-9c73-8d5d7d5027d5"
      },
      "source": [
        "df = df.drop(['year'],axis=1)\n",
        "df.head()"
      ],
      "execution_count": null,
      "outputs": [
        {
          "output_type": "execute_result",
          "data": {
            "text/html": [
              "<div>\n",
              "<style scoped>\n",
              "    .dataframe tbody tr th:only-of-type {\n",
              "        vertical-align: middle;\n",
              "    }\n",
              "\n",
              "    .dataframe tbody tr th {\n",
              "        vertical-align: top;\n",
              "    }\n",
              "\n",
              "    .dataframe thead th {\n",
              "        text-align: right;\n",
              "    }\n",
              "</style>\n",
              "<table border=\"1\" class=\"dataframe\">\n",
              "  <thead>\n",
              "    <tr style=\"text-align: right;\">\n",
              "      <th></th>\n",
              "      <th>price</th>\n",
              "      <th>transmission</th>\n",
              "      <th>mileage</th>\n",
              "      <th>fuelType</th>\n",
              "      <th>tax</th>\n",
              "      <th>mpg</th>\n",
              "      <th>engineSize</th>\n",
              "      <th>car_age</th>\n",
              "    </tr>\n",
              "  </thead>\n",
              "  <tbody>\n",
              "    <tr>\n",
              "      <th>0</th>\n",
              "      <td>25000</td>\n",
              "      <td>Automatic</td>\n",
              "      <td>13904</td>\n",
              "      <td>Diesel</td>\n",
              "      <td>145</td>\n",
              "      <td>49.6</td>\n",
              "      <td>2.0</td>\n",
              "      <td>2</td>\n",
              "    </tr>\n",
              "    <tr>\n",
              "      <th>1</th>\n",
              "      <td>26883</td>\n",
              "      <td>Automatic</td>\n",
              "      <td>4562</td>\n",
              "      <td>Diesel</td>\n",
              "      <td>145</td>\n",
              "      <td>49.6</td>\n",
              "      <td>2.0</td>\n",
              "      <td>2</td>\n",
              "    </tr>\n",
              "    <tr>\n",
              "      <th>2</th>\n",
              "      <td>20000</td>\n",
              "      <td>Manual</td>\n",
              "      <td>7414</td>\n",
              "      <td>Diesel</td>\n",
              "      <td>145</td>\n",
              "      <td>50.4</td>\n",
              "      <td>2.0</td>\n",
              "      <td>2</td>\n",
              "    </tr>\n",
              "    <tr>\n",
              "      <th>3</th>\n",
              "      <td>33492</td>\n",
              "      <td>Automatic</td>\n",
              "      <td>4825</td>\n",
              "      <td>Petrol</td>\n",
              "      <td>145</td>\n",
              "      <td>32.5</td>\n",
              "      <td>2.0</td>\n",
              "      <td>2</td>\n",
              "    </tr>\n",
              "    <tr>\n",
              "      <th>4</th>\n",
              "      <td>22900</td>\n",
              "      <td>Semi-Auto</td>\n",
              "      <td>6500</td>\n",
              "      <td>Petrol</td>\n",
              "      <td>150</td>\n",
              "      <td>39.8</td>\n",
              "      <td>1.5</td>\n",
              "      <td>2</td>\n",
              "    </tr>\n",
              "  </tbody>\n",
              "</table>\n",
              "</div>"
            ],
            "text/plain": [
              "   price transmission  mileage fuelType  tax   mpg  engineSize  car_age\n",
              "0  25000    Automatic    13904   Diesel  145  49.6         2.0        2\n",
              "1  26883    Automatic     4562   Diesel  145  49.6         2.0        2\n",
              "2  20000       Manual     7414   Diesel  145  50.4         2.0        2\n",
              "3  33492    Automatic     4825   Petrol  145  32.5         2.0        2\n",
              "4  22900    Semi-Auto     6500   Petrol  150  39.8         1.5        2"
            ]
          },
          "metadata": {
            "tags": []
          },
          "execution_count": 34
        }
      ]
    },
    {
      "cell_type": "code",
      "metadata": {
        "colab": {
          "base_uri": "https://localhost:8080/"
        },
        "id": "RkGI0waZo286",
        "outputId": "09fcf6ba-1690-4320-b49f-5e8853557f2c"
      },
      "source": [
        "df.shape"
      ],
      "execution_count": null,
      "outputs": [
        {
          "output_type": "execute_result",
          "data": {
            "text/plain": [
              "(15157, 8)"
            ]
          },
          "metadata": {
            "tags": []
          },
          "execution_count": 35
        }
      ]
    },
    {
      "cell_type": "code",
      "metadata": {
        "id": "ndSm5UlHmxIt"
      },
      "source": [
        "df_dummy = pd.get_dummies(df[[\"transmission\",\"fuelType\"]],drop_first=True)"
      ],
      "execution_count": null,
      "outputs": []
    },
    {
      "cell_type": "code",
      "metadata": {
        "id": "bc-jQLwupEFT"
      },
      "source": [
        "df_f = pd.concat([df,df_dummy],axis=1)"
      ],
      "execution_count": null,
      "outputs": []
    },
    {
      "cell_type": "code",
      "metadata": {
        "colab": {
          "base_uri": "https://localhost:8080/",
          "height": 241
        },
        "id": "8axHIzsJmxG_",
        "outputId": "c99641f3-59c7-4711-b9ad-5a5cccc68dc4"
      },
      "source": [
        "df_f.sample(5)"
      ],
      "execution_count": null,
      "outputs": [
        {
          "output_type": "execute_result",
          "data": {
            "text/html": [
              "<div>\n",
              "<style scoped>\n",
              "    .dataframe tbody tr th:only-of-type {\n",
              "        vertical-align: middle;\n",
              "    }\n",
              "\n",
              "    .dataframe tbody tr th {\n",
              "        vertical-align: top;\n",
              "    }\n",
              "\n",
              "    .dataframe thead th {\n",
              "        text-align: right;\n",
              "    }\n",
              "</style>\n",
              "<table border=\"1\" class=\"dataframe\">\n",
              "  <thead>\n",
              "    <tr style=\"text-align: right;\">\n",
              "      <th></th>\n",
              "      <th>price</th>\n",
              "      <th>transmission</th>\n",
              "      <th>mileage</th>\n",
              "      <th>fuelType</th>\n",
              "      <th>tax</th>\n",
              "      <th>mpg</th>\n",
              "      <th>engineSize</th>\n",
              "      <th>car_age</th>\n",
              "      <th>transmission_Manual</th>\n",
              "      <th>transmission_Semi-Auto</th>\n",
              "      <th>fuelType_Hybrid</th>\n",
              "      <th>fuelType_Other</th>\n",
              "      <th>fuelType_Petrol</th>\n",
              "    </tr>\n",
              "  </thead>\n",
              "  <tbody>\n",
              "    <tr>\n",
              "      <th>1508</th>\n",
              "      <td>17998</td>\n",
              "      <td>Semi-Auto</td>\n",
              "      <td>12270</td>\n",
              "      <td>Petrol</td>\n",
              "      <td>160</td>\n",
              "      <td>44.1</td>\n",
              "      <td>2.0</td>\n",
              "      <td>6</td>\n",
              "      <td>0</td>\n",
              "      <td>1</td>\n",
              "      <td>0</td>\n",
              "      <td>0</td>\n",
              "      <td>1</td>\n",
              "    </tr>\n",
              "    <tr>\n",
              "      <th>3239</th>\n",
              "      <td>22992</td>\n",
              "      <td>Manual</td>\n",
              "      <td>4875</td>\n",
              "      <td>Petrol</td>\n",
              "      <td>145</td>\n",
              "      <td>47.9</td>\n",
              "      <td>1.5</td>\n",
              "      <td>2</td>\n",
              "      <td>1</td>\n",
              "      <td>0</td>\n",
              "      <td>0</td>\n",
              "      <td>0</td>\n",
              "      <td>1</td>\n",
              "    </tr>\n",
              "    <tr>\n",
              "      <th>3325</th>\n",
              "      <td>11490</td>\n",
              "      <td>Manual</td>\n",
              "      <td>26386</td>\n",
              "      <td>Diesel</td>\n",
              "      <td>0</td>\n",
              "      <td>74.3</td>\n",
              "      <td>1.6</td>\n",
              "      <td>5</td>\n",
              "      <td>1</td>\n",
              "      <td>0</td>\n",
              "      <td>0</td>\n",
              "      <td>0</td>\n",
              "      <td>0</td>\n",
              "    </tr>\n",
              "    <tr>\n",
              "      <th>14194</th>\n",
              "      <td>17495</td>\n",
              "      <td>Semi-Auto</td>\n",
              "      <td>23105</td>\n",
              "      <td>Diesel</td>\n",
              "      <td>125</td>\n",
              "      <td>60.1</td>\n",
              "      <td>2.0</td>\n",
              "      <td>5</td>\n",
              "      <td>0</td>\n",
              "      <td>1</td>\n",
              "      <td>0</td>\n",
              "      <td>0</td>\n",
              "      <td>0</td>\n",
              "    </tr>\n",
              "    <tr>\n",
              "      <th>11556</th>\n",
              "      <td>12990</td>\n",
              "      <td>Manual</td>\n",
              "      <td>53500</td>\n",
              "      <td>Diesel</td>\n",
              "      <td>145</td>\n",
              "      <td>53.3</td>\n",
              "      <td>2.0</td>\n",
              "      <td>6</td>\n",
              "      <td>1</td>\n",
              "      <td>0</td>\n",
              "      <td>0</td>\n",
              "      <td>0</td>\n",
              "      <td>0</td>\n",
              "    </tr>\n",
              "  </tbody>\n",
              "</table>\n",
              "</div>"
            ],
            "text/plain": [
              "       price transmission  ...  fuelType_Other fuelType_Petrol\n",
              "1508   17998    Semi-Auto  ...               0               1\n",
              "3239   22992       Manual  ...               0               1\n",
              "3325   11490       Manual  ...               0               0\n",
              "14194  17495    Semi-Auto  ...               0               0\n",
              "11556  12990       Manual  ...               0               0\n",
              "\n",
              "[5 rows x 13 columns]"
            ]
          },
          "metadata": {
            "tags": []
          },
          "execution_count": 38
        }
      ]
    },
    {
      "cell_type": "code",
      "metadata": {
        "id": "dDy1x7nTqHbI"
      },
      "source": [
        "df_f = df_f.drop([\"transmission\",\"fuelType\"],axis=1)"
      ],
      "execution_count": null,
      "outputs": []
    },
    {
      "cell_type": "code",
      "metadata": {
        "colab": {
          "base_uri": "https://localhost:8080/",
          "height": 204
        },
        "id": "coctuvjvqQbf",
        "outputId": "7ceb8773-0f5b-43a5-eff4-b60e8a4b6f83"
      },
      "source": [
        "df_f.head()"
      ],
      "execution_count": null,
      "outputs": [
        {
          "output_type": "execute_result",
          "data": {
            "text/html": [
              "<div>\n",
              "<style scoped>\n",
              "    .dataframe tbody tr th:only-of-type {\n",
              "        vertical-align: middle;\n",
              "    }\n",
              "\n",
              "    .dataframe tbody tr th {\n",
              "        vertical-align: top;\n",
              "    }\n",
              "\n",
              "    .dataframe thead th {\n",
              "        text-align: right;\n",
              "    }\n",
              "</style>\n",
              "<table border=\"1\" class=\"dataframe\">\n",
              "  <thead>\n",
              "    <tr style=\"text-align: right;\">\n",
              "      <th></th>\n",
              "      <th>price</th>\n",
              "      <th>mileage</th>\n",
              "      <th>tax</th>\n",
              "      <th>mpg</th>\n",
              "      <th>engineSize</th>\n",
              "      <th>car_age</th>\n",
              "      <th>transmission_Manual</th>\n",
              "      <th>transmission_Semi-Auto</th>\n",
              "      <th>fuelType_Hybrid</th>\n",
              "      <th>fuelType_Other</th>\n",
              "      <th>fuelType_Petrol</th>\n",
              "    </tr>\n",
              "  </thead>\n",
              "  <tbody>\n",
              "    <tr>\n",
              "      <th>0</th>\n",
              "      <td>25000</td>\n",
              "      <td>13904</td>\n",
              "      <td>145</td>\n",
              "      <td>49.6</td>\n",
              "      <td>2.0</td>\n",
              "      <td>2</td>\n",
              "      <td>0</td>\n",
              "      <td>0</td>\n",
              "      <td>0</td>\n",
              "      <td>0</td>\n",
              "      <td>0</td>\n",
              "    </tr>\n",
              "    <tr>\n",
              "      <th>1</th>\n",
              "      <td>26883</td>\n",
              "      <td>4562</td>\n",
              "      <td>145</td>\n",
              "      <td>49.6</td>\n",
              "      <td>2.0</td>\n",
              "      <td>2</td>\n",
              "      <td>0</td>\n",
              "      <td>0</td>\n",
              "      <td>0</td>\n",
              "      <td>0</td>\n",
              "      <td>0</td>\n",
              "    </tr>\n",
              "    <tr>\n",
              "      <th>2</th>\n",
              "      <td>20000</td>\n",
              "      <td>7414</td>\n",
              "      <td>145</td>\n",
              "      <td>50.4</td>\n",
              "      <td>2.0</td>\n",
              "      <td>2</td>\n",
              "      <td>1</td>\n",
              "      <td>0</td>\n",
              "      <td>0</td>\n",
              "      <td>0</td>\n",
              "      <td>0</td>\n",
              "    </tr>\n",
              "    <tr>\n",
              "      <th>3</th>\n",
              "      <td>33492</td>\n",
              "      <td>4825</td>\n",
              "      <td>145</td>\n",
              "      <td>32.5</td>\n",
              "      <td>2.0</td>\n",
              "      <td>2</td>\n",
              "      <td>0</td>\n",
              "      <td>0</td>\n",
              "      <td>0</td>\n",
              "      <td>0</td>\n",
              "      <td>1</td>\n",
              "    </tr>\n",
              "    <tr>\n",
              "      <th>4</th>\n",
              "      <td>22900</td>\n",
              "      <td>6500</td>\n",
              "      <td>150</td>\n",
              "      <td>39.8</td>\n",
              "      <td>1.5</td>\n",
              "      <td>2</td>\n",
              "      <td>0</td>\n",
              "      <td>1</td>\n",
              "      <td>0</td>\n",
              "      <td>0</td>\n",
              "      <td>1</td>\n",
              "    </tr>\n",
              "  </tbody>\n",
              "</table>\n",
              "</div>"
            ],
            "text/plain": [
              "   price  mileage  tax  ...  fuelType_Hybrid  fuelType_Other  fuelType_Petrol\n",
              "0  25000    13904  145  ...                0               0                0\n",
              "1  26883     4562  145  ...                0               0                0\n",
              "2  20000     7414  145  ...                0               0                0\n",
              "3  33492     4825  145  ...                0               0                1\n",
              "4  22900     6500  150  ...                0               0                1\n",
              "\n",
              "[5 rows x 11 columns]"
            ]
          },
          "metadata": {
            "tags": []
          },
          "execution_count": 40
        }
      ]
    },
    {
      "cell_type": "code",
      "metadata": {
        "colab": {
          "base_uri": "https://localhost:8080/"
        },
        "id": "lpixY9MwqT3P",
        "outputId": "1e563f0b-7f0e-47c6-9423-20b1b70ca434"
      },
      "source": [
        "df_f.shape"
      ],
      "execution_count": null,
      "outputs": [
        {
          "output_type": "execute_result",
          "data": {
            "text/plain": [
              "(15157, 11)"
            ]
          },
          "metadata": {
            "tags": []
          },
          "execution_count": 41
        }
      ]
    },
    {
      "cell_type": "code",
      "metadata": {
        "colab": {
          "base_uri": "https://localhost:8080/",
          "height": 723
        },
        "id": "rTRtKyGuqWaA",
        "outputId": "18ce2e63-a61a-4ced-987e-686d97aaba48"
      },
      "source": [
        "plt.figure(figsize=(16,10))\n",
        "sns.heatmap(df_f.corr(),annot=True)"
      ],
      "execution_count": null,
      "outputs": [
        {
          "output_type": "execute_result",
          "data": {
            "text/plain": [
              "<matplotlib.axes._subplots.AxesSubplot at 0x7ff925efd150>"
            ]
          },
          "metadata": {
            "tags": []
          },
          "execution_count": 42
        },
        {
          "output_type": "display_data",
          "data": {
            "image/png": "[encoded data removed]",
            "text/plain": [
              "<Figure size 1152x720 with 2 Axes>"
            ]
          },
          "metadata": {
            "tags": [],
            "needs_background": "light"
          }
        }
      ]
    },
    {
      "cell_type": "code",
      "metadata": {
        "colab": {
          "base_uri": "https://localhost:8080/",
          "height": 204
        },
        "id": "jeACz5bAql3W",
        "outputId": "22022160-03b7-4b57-ca64-ab00ba5482dc"
      },
      "source": [
        "X=df_f.drop([\"price\"],axis=1)\n",
        "X.head()"
      ],
      "execution_count": null,
      "outputs": [
        {
          "output_type": "execute_result",
          "data": {
            "text/html": [
              "<div>\n",
              "<style scoped>\n",
              "    .dataframe tbody tr th:only-of-type {\n",
              "        vertical-align: middle;\n",
              "    }\n",
              "\n",
              "    .dataframe tbody tr th {\n",
              "        vertical-align: top;\n",
              "    }\n",
              "\n",
              "    .dataframe thead th {\n",
              "        text-align: right;\n",
              "    }\n",
              "</style>\n",
              "<table border=\"1\" class=\"dataframe\">\n",
              "  <thead>\n",
              "    <tr style=\"text-align: right;\">\n",
              "      <th></th>\n",
              "      <th>mileage</th>\n",
              "      <th>tax</th>\n",
              "      <th>mpg</th>\n",
              "      <th>engineSize</th>\n",
              "      <th>car_age</th>\n",
              "      <th>transmission_Manual</th>\n",
              "      <th>transmission_Semi-Auto</th>\n",
              "      <th>fuelType_Hybrid</th>\n",
              "      <th>fuelType_Other</th>\n",
              "      <th>fuelType_Petrol</th>\n",
              "    </tr>\n",
              "  </thead>\n",
              "  <tbody>\n",
              "    <tr>\n",
              "      <th>0</th>\n",
              "      <td>13904</td>\n",
              "      <td>145</td>\n",
              "      <td>49.6</td>\n",
              "      <td>2.0</td>\n",
              "      <td>2</td>\n",
              "      <td>0</td>\n",
              "      <td>0</td>\n",
              "      <td>0</td>\n",
              "      <td>0</td>\n",
              "      <td>0</td>\n",
              "    </tr>\n",
              "    <tr>\n",
              "      <th>1</th>\n",
              "      <td>4562</td>\n",
              "      <td>145</td>\n",
              "      <td>49.6</td>\n",
              "      <td>2.0</td>\n",
              "      <td>2</td>\n",
              "      <td>0</td>\n",
              "      <td>0</td>\n",
              "      <td>0</td>\n",
              "      <td>0</td>\n",
              "      <td>0</td>\n",
              "    </tr>\n",
              "    <tr>\n",
              "      <th>2</th>\n",
              "      <td>7414</td>\n",
              "      <td>145</td>\n",
              "      <td>50.4</td>\n",
              "      <td>2.0</td>\n",
              "      <td>2</td>\n",
              "      <td>1</td>\n",
              "      <td>0</td>\n",
              "      <td>0</td>\n",
              "      <td>0</td>\n",
              "      <td>0</td>\n",
              "    </tr>\n",
              "    <tr>\n",
              "      <th>3</th>\n",
              "      <td>4825</td>\n",
              "      <td>145</td>\n",
              "      <td>32.5</td>\n",
              "      <td>2.0</td>\n",
              "      <td>2</td>\n",
              "      <td>0</td>\n",
              "      <td>0</td>\n",
              "      <td>0</td>\n",
              "      <td>0</td>\n",
              "      <td>1</td>\n",
              "    </tr>\n",
              "    <tr>\n",
              "      <th>4</th>\n",
              "      <td>6500</td>\n",
              "      <td>150</td>\n",
              "      <td>39.8</td>\n",
              "      <td>1.5</td>\n",
              "      <td>2</td>\n",
              "      <td>0</td>\n",
              "      <td>1</td>\n",
              "      <td>0</td>\n",
              "      <td>0</td>\n",
              "      <td>1</td>\n",
              "    </tr>\n",
              "  </tbody>\n",
              "</table>\n",
              "</div>"
            ],
            "text/plain": [
              "   mileage  tax   mpg  ...  fuelType_Hybrid  fuelType_Other  fuelType_Petrol\n",
              "0    13904  145  49.6  ...                0               0                0\n",
              "1     4562  145  49.6  ...                0               0                0\n",
              "2     7414  145  50.4  ...                0               0                0\n",
              "3     4825  145  32.5  ...                0               0                1\n",
              "4     6500  150  39.8  ...                0               0                1\n",
              "\n",
              "[5 rows x 10 columns]"
            ]
          },
          "metadata": {
            "tags": []
          },
          "execution_count": 43
        }
      ]
    },
    {
      "cell_type": "code",
      "metadata": {
        "colab": {
          "base_uri": "https://localhost:8080/"
        },
        "id": "VMIT0-HPql0f",
        "outputId": "20c042ad-9eaf-408b-a304-037dd6e97efc"
      },
      "source": [
        "y = df_f[\"price\"]\n",
        "y"
      ],
      "execution_count": null,
      "outputs": [
        {
          "output_type": "execute_result",
          "data": {
            "text/plain": [
              "0        25000\n",
              "1        26883\n",
              "2        20000\n",
              "3        33492\n",
              "4        22900\n",
              "         ...  \n",
              "15152     5990\n",
              "15153     1799\n",
              "15154     1590\n",
              "15155     1250\n",
              "15156     2295\n",
              "Name: price, Length: 15157, dtype: int64"
            ]
          },
          "metadata": {
            "tags": []
          },
          "execution_count": 44
        }
      ]
    },
    {
      "cell_type": "code",
      "metadata": {
        "id": "cK79gF08qlwh"
      },
      "source": [
        "from sklearn.model_selection import train_test_split\n",
        "X_train, X_test, y_train,y_test = train_test_split(X,y,random_state=42,test_size=0.2)"
      ],
      "execution_count": null,
      "outputs": []
    },
    {
      "cell_type": "code",
      "metadata": {
        "colab": {
          "base_uri": "https://localhost:8080/"
        },
        "id": "Kqx82V02qltt",
        "outputId": "774fc7e5-dba4-4cbc-b227-bf19c74c8291"
      },
      "source": [
        "X_train.shape, X_test.shape"
      ],
      "execution_count": null,
      "outputs": [
        {
          "output_type": "execute_result",
          "data": {
            "text/plain": [
              "((12125, 10), (3032, 10))"
            ]
          },
          "metadata": {
            "tags": []
          },
          "execution_count": 46
        }
      ]
    },
    {
      "cell_type": "code",
      "metadata": {
        "colab": {
          "base_uri": "https://localhost:8080/"
        },
        "id": "5cewq6Jpqlq5",
        "outputId": "fd441ce6-0f28-4f92-ac93-b5898210b10b"
      },
      "source": [
        "from sklearn.linear_model import LinearRegression\n",
        "lin_reg = LinearRegression()\n",
        "lin_reg.fit(X_train,y_train)"
      ],
      "execution_count": null,
      "outputs": [
        {
          "output_type": "execute_result",
          "data": {
            "text/plain": [
              "LinearRegression(copy_X=True, fit_intercept=True, n_jobs=None, normalize=False)"
            ]
          },
          "metadata": {
            "tags": []
          },
          "execution_count": 47
        }
      ]
    },
    {
      "cell_type": "code",
      "metadata": {
        "colab": {
          "base_uri": "https://localhost:8080/"
        },
        "id": "vqnfT2JSshcV",
        "outputId": "473ad95b-5a21-45c7-e93c-a522c015afe2"
      },
      "source": [
        "lin_reg.score(X_train,y_train)"
      ],
      "execution_count": null,
      "outputs": [
        {
          "output_type": "execute_result",
          "data": {
            "text/plain": [
              "0.8088051792693263"
            ]
          },
          "metadata": {
            "tags": []
          },
          "execution_count": 48
        }
      ]
    },
    {
      "cell_type": "code",
      "metadata": {
        "colab": {
          "base_uri": "https://localhost:8080/"
        },
        "id": "V6Gi4iIusqQG",
        "outputId": "f56d0cbe-239f-4994-a70e-58852a240dbc"
      },
      "source": [
        "lin_reg.score(X_test,y_test)"
      ],
      "execution_count": null,
      "outputs": [
        {
          "output_type": "execute_result",
          "data": {
            "text/plain": [
              "0.8024667352534736"
            ]
          },
          "metadata": {
            "tags": []
          },
          "execution_count": 49
        }
      ]
    },
    {
      "cell_type": "code",
      "metadata": {
        "id": "c9-B1btruNxX"
      },
      "source": [
        "lin_reg_predict = lin_reg.predict(X_test)"
      ],
      "execution_count": null,
      "outputs": []
    },
    {
      "cell_type": "code",
      "metadata": {
        "id": "OoqmRuJEsw4W"
      },
      "source": [
        "from sklearn.metrics import mean_absolute_error, mean_squared_error,r2_score"
      ],
      "execution_count": null,
      "outputs": []
    },
    {
      "cell_type": "code",
      "metadata": {
        "colab": {
          "base_uri": "https://localhost:8080/"
        },
        "id": "vO7r3E8iud1A",
        "outputId": "5a0f144e-0c76-408b-95be-cc5dfa6b9e13"
      },
      "source": [
        "print(\"MAE:\", mean_absolute_error(y_test,lin_reg_predict))\n",
        "print(\"MSE:\", mean_squared_error(y_test,lin_reg_predict))\n",
        "print(\"RMSE:\", np.sqrt(mean_squared_error(y_test,lin_reg_predict)))"
      ],
      "execution_count": null,
      "outputs": [
        {
          "output_type": "stream",
          "text": [
            "MAE: 2229.378656119401\n",
            "MSE: 11721969.7699928\n",
            "RMSE: 3423.7362296171123\n"
          ],
          "name": "stdout"
        }
      ]
    },
    {
      "cell_type": "code",
      "metadata": {
        "colab": {
          "base_uri": "https://localhost:8080/"
        },
        "id": "iEV8lFg2u61l",
        "outputId": "d7c96e55-797c-4b51-ba12-6e957d0e015b"
      },
      "source": [
        "r2_score(y_test,lin_reg_predict)"
      ],
      "execution_count": null,
      "outputs": [
        {
          "output_type": "execute_result",
          "data": {
            "text/plain": [
              "0.8024667352534735"
            ]
          },
          "metadata": {
            "tags": []
          },
          "execution_count": 53
        }
      ]
    },
    {
      "cell_type": "code",
      "metadata": {
        "colab": {
          "base_uri": "https://localhost:8080/"
        },
        "id": "9cVzLg5vv4W_",
        "outputId": "61bc6267-26f8-4008-d75b-22b03c49976f"
      },
      "source": [
        "from sklearn.ensemble import RandomForestRegressor\n",
        "rfr = RandomForestRegressor()\n",
        "rfr.fit(X_train,y_train)"
      ],
      "execution_count": null,
      "outputs": [
        {
          "output_type": "execute_result",
          "data": {
            "text/plain": [
              "RandomForestRegressor(bootstrap=True, ccp_alpha=0.0, criterion='mse',\n",
              "                      max_depth=None, max_features='auto', max_leaf_nodes=None,\n",
              "                      max_samples=None, min_impurity_decrease=0.0,\n",
              "                      min_impurity_split=None, min_samples_leaf=1,\n",
              "                      min_samples_split=2, min_weight_fraction_leaf=0.0,\n",
              "                      n_estimators=100, n_jobs=None, oob_score=False,\n",
              "                      random_state=None, verbose=0, warm_start=False)"
            ]
          },
          "metadata": {
            "tags": []
          },
          "execution_count": 54
        }
      ]
    },
    {
      "cell_type": "code",
      "metadata": {
        "colab": {
          "base_uri": "https://localhost:8080/"
        },
        "id": "h0rOS1u-wZTc",
        "outputId": "6c324e39-2da6-4bdd-cc0a-7832ecc46d67"
      },
      "source": [
        "rfr.score(X_train,y_train)"
      ],
      "execution_count": null,
      "outputs": [
        {
          "output_type": "execute_result",
          "data": {
            "text/plain": [
              "0.9906640341744825"
            ]
          },
          "metadata": {
            "tags": []
          },
          "execution_count": 55
        }
      ]
    },
    {
      "cell_type": "code",
      "metadata": {
        "colab": {
          "base_uri": "https://localhost:8080/"
        },
        "id": "94Z8V-hQwXxA",
        "outputId": "7f1cb9c6-72ce-4ef5-8beb-108ab3f4fc9f"
      },
      "source": [
        "rfr.score(X_test,y_test)"
      ],
      "execution_count": null,
      "outputs": [
        {
          "output_type": "execute_result",
          "data": {
            "text/plain": [
              "0.9390505865768396"
            ]
          },
          "metadata": {
            "tags": []
          },
          "execution_count": 56
        }
      ]
    },
    {
      "cell_type": "code",
      "metadata": {
        "id": "kSlWl6WNwmnA"
      },
      "source": [
        "rfr_predict = rfr.predict(X_test)"
      ],
      "execution_count": null,
      "outputs": []
    },
    {
      "cell_type": "code",
      "metadata": {
        "colab": {
          "base_uri": "https://localhost:8080/"
        },
        "id": "5rnuRvLowwk2",
        "outputId": "46bffc7a-5756-47e8-bf84-f5663429f7ff"
      },
      "source": [
        "print(\"MAE:\", mean_absolute_error(y_test,rfr_predict))\n",
        "print(\"MSE:\", mean_squared_error(y_test,rfr_predict))\n",
        "print(\"RMSE:\", np.sqrt(mean_squared_error(y_test,rfr_predict)))"
      ],
      "execution_count": null,
      "outputs": [
        {
          "output_type": "stream",
          "text": [
            "MAE: 1214.2108700849474\n",
            "MSE: 3616844.902360384\n",
            "RMSE: 1901.8004370491622\n"
          ],
          "name": "stdout"
        }
      ]
    },
    {
      "cell_type": "code",
      "metadata": {
        "colab": {
          "base_uri": "https://localhost:8080/"
        },
        "id": "bD0tGFoDxGRr",
        "outputId": "68579573-bf05-4d72-cc0f-04fc4b484e32"
      },
      "source": [
        "r2_score(y_test,rfr_predict)"
      ],
      "execution_count": null,
      "outputs": [
        {
          "output_type": "execute_result",
          "data": {
            "text/plain": [
              "0.9390505865768397"
            ]
          },
          "metadata": {
            "tags": []
          },
          "execution_count": 59
        }
      ]
    },
    {
      "cell_type": "code",
      "metadata": {
        "id": "D8XyjxilxKnj",
        "colab": {
          "base_uri": "https://localhost:8080/"
        },
        "outputId": "cfb7521f-f79c-4921-e162-682e9d7d03a6"
      },
      "source": [
        "import xgboost as xgb\n",
        "xgboost = xgb.XGBRegressor(random_state=1,learning_rate=0.1)\n",
        "xgboost.fit(X_train,y_train)"
      ],
      "execution_count": null,
      "outputs": [
        {
          "output_type": "stream",
          "text": [
            "[05:31:00] WARNING: /workspace/src/objective/regression_obj.cu:152: reg:linear is now deprecated in favor of reg:squarederror.\n"
          ],
          "name": "stdout"
        },
        {
          "output_type": "execute_result",
          "data": {
            "text/plain": [
              "XGBRegressor(base_score=0.5, booster='gbtree', colsample_bylevel=1,\n",
              "             colsample_bynode=1, colsample_bytree=1, gamma=0,\n",
              "             importance_type='gain', learning_rate=0.1, max_delta_step=0,\n",
              "             max_depth=3, min_child_weight=1, missing=None, n_estimators=100,\n",
              "             n_jobs=1, nthread=None, objective='reg:linear', random_state=1,\n",
              "             reg_alpha=0, reg_lambda=1, scale_pos_weight=1, seed=None,\n",
              "             silent=None, subsample=1, verbosity=1)"
            ]
          },
          "metadata": {
            "tags": []
          },
          "execution_count": 68
        }
      ]
    },
    {
      "cell_type": "code",
      "metadata": {
        "colab": {
          "base_uri": "https://localhost:8080/"
        },
        "id": "oiox3-nDsZt_",
        "outputId": "f74e6b82-c09c-433c-8f7c-4e90605bdd3b"
      },
      "source": [
        "xgboost.score(X_test,y_test)"
      ],
      "execution_count": null,
      "outputs": [
        {
          "output_type": "execute_result",
          "data": {
            "text/plain": [
              "0.9107738738779214"
            ]
          },
          "metadata": {
            "tags": []
          },
          "execution_count": 69
        }
      ]
    },
    {
      "cell_type": "code",
      "metadata": {
        "colab": {
          "base_uri": "https://localhost:8080/"
        },
        "id": "V5CRAKursZgr",
        "outputId": "8c21fffc-e3db-4802-fea3-f3b70978b2d5"
      },
      "source": [
        "xgboost.score(X_train,y_train)"
      ],
      "execution_count": null,
      "outputs": [
        {
          "output_type": "execute_result",
          "data": {
            "text/plain": [
              "0.9165396406880155"
            ]
          },
          "metadata": {
            "tags": []
          },
          "execution_count": 63
        }
      ]
    },
    {
      "cell_type": "code",
      "metadata": {
        "id": "umd3CZVysZSY"
      },
      "source": [
        "xgb_predict = xgboost.predict(X_test)"
      ],
      "execution_count": null,
      "outputs": []
    },
    {
      "cell_type": "code",
      "metadata": {
        "colab": {
          "base_uri": "https://localhost:8080/"
        },
        "id": "sqlVGpwDtNgY",
        "outputId": "0c10fd48-512c-48b6-cdde-c0c63340bc0c"
      },
      "source": [
        "print(\"MAE:\", mean_absolute_error(y_test,xgb_predict))\n",
        "print(\"MSE:\", mean_squared_error(y_test,xgb_predict))\n",
        "print(\"RMSE:\", np.sqrt(mean_squared_error(y_test,xgb_predict)))"
      ],
      "execution_count": null,
      "outputs": [
        {
          "output_type": "stream",
          "text": [
            "MAE: 1583.1017656049503\n",
            "MSE: 5294834.540595832\n",
            "RMSE: 2301.050747070962\n"
          ],
          "name": "stdout"
        }
      ]
    },
    {
      "cell_type": "code",
      "metadata": {
        "colab": {
          "base_uri": "https://localhost:8080/"
        },
        "id": "3zWEySstthsU",
        "outputId": "1e4723ba-2905-4015-a0ea-f72e9aac0974"
      },
      "source": [
        "r2_score(y_test,xgb_predict)"
      ],
      "execution_count": null,
      "outputs": [
        {
          "output_type": "execute_result",
          "data": {
            "text/plain": [
              "0.9107738738779214"
            ]
          },
          "metadata": {
            "tags": []
          },
          "execution_count": 72
        }
      ]
    }
  ]
}